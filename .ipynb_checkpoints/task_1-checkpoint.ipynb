{
 "cells": [
  {
   "cell_type": "markdown",
   "metadata": {},
   "source": [
    "# Максимальный поток в транспортной сети\n",
    "\n",
    "Рассмотрим задачу [поиска максимального потока в транспортной сети](https://ru.wikipedia.org/wiki/Задача_о_максимальном_потоке)\n",
    "\n",
    "Обычно такая задача решается с использованием [алгоритм Диница](https://ru.wikipedia.org/wiki/Алгоритм_Диница)с использованием библиотеки NetworkX. We will also see how it can be used to solve some interesting problems.\n",
    "\n",
    "Для того, чтобы освежить терминологию теори графов, можно вопсользоваться [учебником](https://alstutor.work/pdfs/discretemath.pdf), стр. 42.\n",
    "\n",
    "## Поиск максимального потока\n",
    "\n",
    "Алгоритм рассмотрен в [учебнике](https://alstutor.work/pdfs/discretemath.pdf), стр. 69-71."
   ]
  },
  {
   "cell_type": "markdown",
   "metadata": {},
   "source": [
    "Рассмотрим исползование библиотеки NetworkX для решения задачи, рассмотренной в учебнике."
   ]
  },
  {
   "cell_type": "markdown",
   "metadata": {},
   "source": [
    "Импортируем необходимые библиотеки"
   ]
  },
  {
   "cell_type": "code",
   "execution_count": 1,
   "metadata": {},
   "outputs": [],
   "source": [
    "import networkx as nx\n",
    "import numpy as np\n",
    "import matplotlib.pyplot as plt\n",
    "import math\n",
    "from copy import deepcopy\n",
    "from collections import deque"
   ]
  },
  {
   "cell_type": "markdown",
   "metadata": {},
   "source": [
    "Опишем граф."
   ]
  },
  {
   "cell_type": "code",
   "execution_count": 2,
   "metadata": {},
   "outputs": [],
   "source": [
    "graph = nx.DiGraph()  # создаем оринтированный граф\n",
    "\n",
    "graph.add_edge(1, 2, weight=8)  # пропускная способность дуги из первой вершины во вторую равна 8\n",
    "graph.add_edge(1, 3, weight=5)\n",
    "graph.add_edge(1, 4, weight=3)\n",
    "graph.add_edge(2, 5, weight=7)\n",
    "graph.add_edge(3, 4, weight=10)\n",
    "graph.add_edge(4, 6, weight=15)\n",
    "graph.add_edge(5, 3, weight=7)\n",
    "graph.add_edge(5, 4, weight=3)\n",
    "graph.add_edge(5, 6, weight=1)"
   ]
  },
  {
   "cell_type": "markdown",
   "metadata": {},
   "source": [
    "Найдем поток максимальный поток"
   ]
  },
  {
   "cell_type": "code",
   "execution_count": 16,
   "metadata": {},
   "outputs": [
    {
     "name": "stdout",
     "output_type": "stream",
     "text": [
      "Максимальный поток: 15\n",
      "Потоки по дугам {1: {2: 7, 3: 5, 4: 3}, 2: {5: 7}, 3: {4: 8}, 4: {6: 14}, 5: {3: 3, 4: 3, 6: 1}, 6: {}}\n"
     ]
    }
   ],
   "source": [
    "# находим максимальный поток в графе graph, начальная вершина 1, конечная - 6, пропускные спсобности дуг\n",
    "# описаны в свойствах дуг с названием weight\n",
    "max_flow, flows = nx.maximum_flow(graph, 1, 6, capacity='weight')\n",
    "print(\"Максимальный поток:\", max_flow)\n",
    "print(\"Потоки по дугам\", flows)"
   ]
  },
  {
   "cell_type": "markdown",
   "metadata": {},
   "source": [
    "Здесь потоки определяются следующим образом: из первой дуги во вторую поток равен семи (`{1: {2: 7,...`), из первой в третью - пяти (`{1: {.., 3: 5,...`), и так далее, из шестой вершины потоки не выходят (это конечная вершина, сток)"
   ]
  },
  {
   "cell_type": "markdown",
   "metadata": {},
   "source": [
    "## Задание\n",
    "\n",
    "Группа студентов устраивает вечеринку в честь праздника 8 марта. \n",
    "\n",
    "Каждый студент может захватить с собой не более 3 кг разных продуктов, и только те, которые ему удобно \n",
    "купить по пути на вечеринку. Организатор хочет максимизировать количество еды на вечеринке, но хочет так же, \n",
    "чтобы еда была разнообразной, так что на каждое блюдо установлен лимит по количеству. Помогите организатору \n",
    "сделать количество еды максимальным, используя методологию транспортных сетей. \n",
    "\n",
    "Предполагается решение задачи с точностью до 0.1 кг."
   ]
  },
  {
   "cell_type": "markdown",
   "metadata": {},
   "source": [
    "### Исходные данные\n",
    "\n",
    "Студенты\n",
    "\n",
    "| Фамилия | Список блюд |\n",
    "|---|---|\n",
    "| Иванов | Мясо, кетчуп |\n",
    "| Петров | Мясо, картофель |\n",
    "| Сидоров | Кетчуп, майонез |\n",
    "\n",
    "Блюда\n",
    "\n",
    "| Блюдо | Максимальное количество |\n",
    "|---|---|\n",
    "| Мясо, кг | 3 |\n",
    "| Картофель, кг | 4 |\n",
    "| Кетчуп, кг | 1 |\n",
    "| Майонез, кг | 1 |"
   ]
  },
  {
   "cell_type": "markdown",
   "metadata": {},
   "source": [
    "### Рекомендации по выполнению\n",
    "\n",
    "Построить транспортную сеть, соответствующую описанной ситуации. \n",
    "\n",
    "Подсказка: количество вершин транспортной сети = количество студентов + количество блюд + 2. \n",
    "\n",
    "Найти общее количество блюд как максимальный поток транспортной сети. \n",
    "\n",
    "Найти, какое количество и каких блюд приносит каждый студент."
   ]
  },
  {
   "cell_type": "code",
   "execution_count": null,
   "metadata": {},
   "outputs": [],
   "source": []
  }
 ],
 "metadata": {
  "jupytext": {
   "notebook_metadata_filter": "all",
   "text_representation": {
    "extension": ".md",
    "format_name": "myst",
    "format_version": 0.13,
    "jupytext_version": "1.13.8"
   }
  },
  "kernelspec": {
   "display_name": "Python 3",
   "language": "python",
   "name": "python3"
  },
  "language_info": {
   "codemirror_mode": {
    "name": "ipython",
    "version": 3
   },
   "file_extension": ".py",
   "mimetype": "text/x-python",
   "name": "python",
   "nbconvert_exporter": "python",
   "pygments_lexer": "ipython3",
   "version": "3.8.1"
  },
  "source_map": [
   23,
   33,
   41,
   50,
   78,
   95,
   103,
   108,
   117,
   136,
   180,
   184,
   198,
   200,
   204,
   218,
   220,
   247,
   304,
   308,
   317,
   321,
   324,
   335,
   399,
   402,
   421,
   435,
   439,
   449,
   453,
   467,
   471,
   477,
   506,
   540,
   571,
   584,
   587,
   598,
   614,
   632
  ]
 },
 "nbformat": 4,
 "nbformat_minor": 5
}
